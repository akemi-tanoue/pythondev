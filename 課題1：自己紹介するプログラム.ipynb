{
 "cells": [
  {
   "cell_type": "code",
   "execution_count": null,
   "id": "3bc7e821",
   "metadata": {},
   "outputs": [],
   "source": [
    "# 命令1\n",
    "# 画面に「名前を入力してください：」と表示したうえで、キーボードから名前を受けつけ、変数 name に格納します。\n",
    "name = input(\"名前を入力してください：\")\n",
    "\n",
    "# 命令2\n",
    "# 画面に「現在の年齢を入力してください：」と表示したうえで、キーボードから現在の年齢を受け付けて、変数 age に格納します。\n",
    "age = input(\"現在の年齢を入力してください：\")\n",
    "age = int(age)  # 文字として受け取った年齢を数字（整数）に変換する\n",
    "\n",
    "# 命令3\n",
    "# 画面に「私の名前は ○○ です。来年で △△ 歳になります。」と表示します。来年の年齢を表示してください！\n",
    "print(f\"私の名前は {name} です。来年で {age + 1} 歳になります。\") # ageに+1で来年の年齢を表示する\n",
    "\n"
   ]
  }
 ],
 "metadata": {
  "kernelspec": {
   "display_name": ".venv (3.12.10)",
   "language": "python",
   "name": "python3"
  },
  "language_info": {
   "codemirror_mode": {
    "name": "ipython",
    "version": 3
   },
   "file_extension": ".py",
   "mimetype": "text/x-python",
   "name": "python",
   "nbconvert_exporter": "python",
   "pygments_lexer": "ipython3",
   "version": "3.12.10"
  }
 },
 "nbformat": 4,
 "nbformat_minor": 5
}
