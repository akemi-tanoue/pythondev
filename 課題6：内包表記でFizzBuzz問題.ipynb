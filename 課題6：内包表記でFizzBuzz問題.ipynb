{
 "cells": [
  {
   "cell_type": "code",
   "execution_count": null,
   "id": "1bcccbda",
   "metadata": {},
   "outputs": [],
   "source": [
    "num = [\n",
    "\t\"FizzBuzz\" if i % 3 == 0 and i % 5 == 0 else\n",
    "  \"Fizz\" if i % 3 == 0 else\n",
    "  \"Buzz\" if i % 5 == 0 else\n",
    "  str(i)\n",
    "  for i in range(1, 101)\n",
    "]\n",
    "print(num)\n",
    "\n",
    "#リスト内包表記を用いること →○\n",
    "#1から100までの連続する整数に対するFizzBuzz判定を行う →○\n",
    "#判定ルール：\n",
    "#3で割り切れる数のときは \"Fizz\" →○\n",
    "#5で割り切れる数のときは \"Buzz\" →○\n",
    "#3で割り切れて、なおかつ5で割り切れる数のときは \"FizzBuzz\" →○\n",
    "#それ以外の数値の場合は、その数値を文字列に変換したデータ →○\n",
    "#FizzBuzz判定の結果をリストとして生成し、print()関数で全件を出力すること →○"
   ]
  }
 ],
 "metadata": {
  "kernelspec": {
   "display_name": ".venv (3.12.10)",
   "language": "python",
   "name": "python3"
  },
  "language_info": {
   "name": "python",
   "version": "3.12.10"
  }
 },
 "nbformat": 4,
 "nbformat_minor": 5
}
