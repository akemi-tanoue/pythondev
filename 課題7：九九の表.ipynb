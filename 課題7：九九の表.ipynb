{
 "cells": [
  {
   "cell_type": "code",
   "execution_count": null,
   "id": "7e1d4d35",
   "metadata": {},
   "outputs": [],
   "source": [
    "# @title 九九のリストを作成する\n",
    "# 九九の数値が格納された2次元リストを作成してください。\n",
    "# その際、リストの内包表記か二重ループを使って作成してください。\n",
    "# 直書きによる 9x9 の2次元リストの作成は不合格とします。\n",
    "\n",
    "list_mul = [[x * y for y in range(1, 10)] for x in range(1, 10)] #xとyを掛け算する、yとxの掛け算する数字を設定（1-9）\n",
    "for row in list_mul:\n",
    "  for num in row:\n",
    "    print(f\"{num:3d}\", end=\"\")\n",
    "  print()\n",
    "\n",
    "# @title 九九の表を表示する と書かれた行の下にある二重の for 文を修正してください：\n",
    "# 上記で作成した2次元リストから数値を参照して、九九を表示してください\n",
    "# その際、前述の実行結果の表示と同じレイアウトにしてください\n",
    "for v in range(1, 10):\n",
    "  for h in range(1, 10):\n",
    "    print(f\"{list_mul[v-1][h-1]:3d}\", end=\"\")  # ここでlist_mulから参照する、リストは０からなので1からと指示する\n",
    "  print(\"\")\n",
    "\n",
    "#以下は元のfor文\n",
    "#for v in range(1, 10): #vという変数を1-9まで順番に変える（縦：vertical）\n",
    "#  for h in range(1, 10): #vの中でhという変数を1-9まで順番に変える（横：horizontal）\n",
    "#    print(f\"{(v * h):3d}\", end=\"\") #vとhを掛け算して、三桁分の幅で整数で表示する、改行せずに続ける\n",
    "#  print(\"\")\n",
    "\n"
   ]
  }
 ],
 "metadata": {
  "kernelspec": {
   "display_name": ".venv (3.12.10)",
   "language": "python",
   "name": "python3"
  },
  "language_info": {
   "name": "python",
   "version": "3.12.10"
  }
 },
 "nbformat": 4,
 "nbformat_minor": 5
}
