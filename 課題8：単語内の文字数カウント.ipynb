{
 "cells": [
  {
   "cell_type": "markdown",
   "id": "505dc139",
   "metadata": {},
   "source": [
    "# 最初に英単語を格納するための空のリストを作成してください\n",
    "words = []\n",
    "\n",
    "# 次に、以下のように、キーがアルファベット小文字の各文字で、値が0の辞書を作成してください：\n",
    "# 'a':0, 'b':0, 'c':0, 'd':0, 'e':0, 'f':0, 'g':0, 'h':0, 'i':0, 'j':0, 'k':0, 'l':0, 'm':0, 'n':0, 'o':0, 'p':0, 'q':0, 'r':0, 's':0, 't':0, 'u':0, 'v':0, 'w':0, 'x':0, 'y':0, 'z':0\n",
    "char_dic = dict.fromkeys(list(\"abcdefghijklmnopqrstuvwxyz\"), 0)\n",
    "\n",
    "# そのあと、キーボードから英単語の入力を受けつけます：\n",
    "# 未入力でリターン（エンター）キーを押されるまで、英単語の入力の受け付けを繰り返してください\n",
    "# 入力された英単語を構成する文字を1文字ずつ確認して、登場した数を加算してください\n",
    "# 入力された英単語は都度リストに格納してください\n",
    "while True:\n",
    "  word = input(\"英単語を入力してください：\")\n",
    "  if word == \"\":\n",
    "    break  # ループを抜ける\n",
    "  words.append(word)  # 入力された英単語をリストに追加\n",
    "  for char in word:\n",
    "    char_dic[char] += 1\n",
    "\n",
    "# その際、ABC順に並べ替えてから表示するようにしてください\n",
    "words.sort() #並び替えだけする\n",
    "# 入力された英単語のリストを一覧表示してください\n",
    "print(\"入力した英単語：\", words) #並び替えたものを出力する\n",
    "\n",
    "# 辞書を使って加算した値のうち、1文字以上あったすべての文字について「○が△個ありました」を表示してください\n",
    "for char, count in char_dic.items():\n",
    "  if count > 0:\n",
    "    print(f\"「{char}」が{count}個ありました\")\n"
   ]
  },
  {
   "cell_type": "code",
   "execution_count": null,
   "id": "22612826",
   "metadata": {},
   "outputs": [],
   "source": []
  }
 ],
 "metadata": {
  "kernelspec": {
   "display_name": ".venv (3.12.10)",
   "language": "python",
   "name": "python3"
  },
  "language_info": {
   "name": "python",
   "version": "3.12.10"
  }
 },
 "nbformat": 4,
 "nbformat_minor": 5
}
