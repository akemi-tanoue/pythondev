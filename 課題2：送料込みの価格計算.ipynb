{
 "cells": [
  {
   "cell_type": "code",
   "execution_count": null,
   "id": "6b51e23e",
   "metadata": {},
   "outputs": [
    {
     "ename": "ValueError",
     "evalue": "invalid literal for int() with base 10: ''",
     "output_type": "error",
     "traceback": [
      "\u001b[31m---------------------------------------------------------------------------\u001b[39m",
      "\u001b[31mValueError\u001b[39m                                Traceback (most recent call last)",
      "\u001b[36mCell\u001b[39m\u001b[36m \u001b[39m\u001b[32mIn[10]\u001b[39m\u001b[32m, line 4\u001b[39m\n\u001b[32m      1\u001b[39m \u001b[38;5;66;03m# 命令1\u001b[39;00m\n\u001b[32m      2\u001b[39m \u001b[38;5;66;03m# 「税抜価格を入力してください：」と表示し、キーボードから税抜価格の入力を受け付けます\u001b[39;00m\n\u001b[32m      3\u001b[39m amount = \u001b[38;5;28minput\u001b[39m(\u001b[33m\"\u001b[39m\u001b[33m税抜価格を入力してください：\u001b[39m\u001b[33m\"\u001b[39m)\n\u001b[32m----> \u001b[39m\u001b[32m4\u001b[39m amount = \u001b[38;5;28;43mint\u001b[39;49m\u001b[43m(\u001b[49m\u001b[43mamount\u001b[49m\u001b[43m)\u001b[49m  \u001b[38;5;66;03m# 入力された値を整数に変換\u001b[39;00m\n\u001b[32m      6\u001b[39m \u001b[38;5;66;03m# 命令2\u001b[39;00m\n\u001b[32m      7\u001b[39m \u001b[38;5;66;03m# 税抜価格が入力されたら、税込価格を計算します。小数点以下を四捨五入します\u001b[39;00m\n\u001b[32m      8\u001b[39m \u001b[38;5;66;03m#なお、税額の計算は、簡略化のため、税抜価格に一律で10%をかけるものとします\u001b[39;00m\n\u001b[32m      9\u001b[39m tax = amount * \u001b[32m0.10\u001b[39m   \u001b[38;5;66;03m# 税金10%を計算\u001b[39;00m\n",
      "\u001b[31mValueError\u001b[39m: invalid literal for int() with base 10: ''"
     ]
    }
   ],
   "source": [
    "# 命令1\n",
    "# 「税抜価格を入力してください：」と表示し、キーボードから税抜価格の入力を受け付けます\n",
    "amount = input(\"税抜価格を入力してください：\")\n",
    "amount = int(amount)  # 入力された値を整数に変換\n",
    "\n",
    "# 命令2\n",
    "# 税抜価格が入力されたら、税込価格を計算します。小数点以下を四捨五入します\n",
    "#なお、税額の計算は、簡略化のため、税抜価格に一律で10%をかけるものとします\n",
    "tax = amount * 0.10   # 税金10%を計算\n",
    "total = round(amount + tax)  # 税込価格を四捨五入\n",
    "\n",
    "#条件分岐\n",
    "#計算された税込価格によって処理を分けます：\n",
    "#税込価格が2000円以上の場合：\n",
    "#「送料は無料です」と表示します\n",
    "#税込価格が2000円未満の場合：\n",
    "#「送料として350円かかります」と表示し、送料350円を税込価格にプラスします（送料350円は税込価格として考えてください）\n",
    "#「送料込みの価格は○○○円です。」というように、画面に送料込みの価格を画面に表示します\n",
    "if total >= 2000:#2000円以上だったら\n",
    "    print(\"送料は無料です\")\n",
    "    print(\"送料込みの価格は\", total, \"円です\")\n",
    "else: #if文と違い2000円以下だったら\n",
    "    total = total + 350\n",
    "    print(\"送料として350円かかります\")\n",
    "    print(\"送料込みの価格は\", total, \"円です\")"
   ]
  }
 ],
 "metadata": {
  "kernelspec": {
   "display_name": ".venv (3.12.10)",
   "language": "python",
   "name": "python3"
  },
  "language_info": {
   "codemirror_mode": {
    "name": "ipython",
    "version": 3
   },
   "file_extension": ".py",
   "mimetype": "text/x-python",
   "name": "python",
   "nbconvert_exporter": "python",
   "pygments_lexer": "ipython3",
   "version": "3.12.10"
  }
 },
 "nbformat": 4,
 "nbformat_minor": 5
}
