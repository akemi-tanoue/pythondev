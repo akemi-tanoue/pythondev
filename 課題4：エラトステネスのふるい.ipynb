{
 "cells": [
  {
   "cell_type": "code",
   "execution_count": null,
   "id": "4acc15e2",
   "metadata": {},
   "outputs": [],
   "source": [
    "for number in range(1, 101): #1から100までの数字を、順番にnumberという箱に入れて繰り返す、100にすると99までになるから101とする\n",
    "  if number == 1: #もしnumberが1だったら、素数じゃないから、次の数字に進む\n",
    "    continue\n",
    "  if number in [2, 3, 5, 7]: #もしnumberが2,3,5,7だったら、素数だから、表示して、次の数字に進む\n",
    "    print(number)\n",
    "    continue\n",
    "  if number % 2 == 0: #もしnumberが2の倍数（2で割って余りが0）だったら、素数じゃないから、次の数字に進む\n",
    "    continue\n",
    "  if number % 3 == 0: #もしnumberが3の倍数（3で割って余りが0）だったら、素数じゃないから、次の数字に進む\n",
    "    continue\n",
    "  if number % 5 == 0: #もしnumberが5の倍数（5で割って余りが0）だったら、素数じゃないから、次の数字に進む\n",
    "    continue\n",
    "  if number % 7 == 0: #もしnumberが7の倍数（7で割って余りが0）だったら、素数じゃないから、次の数字に進む\n",
    "    continue\n",
    "  print(number) #上記条件により数字を表示する\n",
    "\n",
    "\n",
    "#課題\n",
    "#range と繰り返し処理を使って、1から100までの連続する整数値を画面に表示します　→○\n",
    "#ただし、素数でないものは表示しないでください。以下のルールについて調べることで、素数かどうかを判定できます：\n",
    "#1は素数ではない　→○\n",
    "#2を除いた2の倍数は素数ではない　→○\n",
    "#3を除いた3の倍数は素数ではない　→○\n",
    "#5を除いた5の倍数は素数ではない　→○\n",
    "#7を除いた7の倍数は素数ではない　→○\n",
    "#上記の素数かどうかの判定手順に沿って、エラトステネスのふるいの処理を実装しましょう。\n",
    "\n"
   ]
  }
 ],
 "metadata": {
  "kernelspec": {
   "display_name": ".venv (3.12.10)",
   "language": "python",
   "name": "python3"
  },
  "language_info": {
   "name": "python",
   "version": "3.12.10"
  }
 },
 "nbformat": 4,
 "nbformat_minor": 5
}
