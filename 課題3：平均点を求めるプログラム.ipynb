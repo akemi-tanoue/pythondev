{
 "cells": [
  {
   "cell_type": "code",
   "execution_count": null,
   "id": "fc31cf67",
   "metadata": {},
   "outputs": [
    {
     "ename": "ValueError",
     "evalue": "invalid literal for int() with base 10: ''",
     "output_type": "error",
     "traceback": [
      "\u001b[31m---------------------------------------------------------------------------\u001b[39m",
      "\u001b[31mValueError\u001b[39m                                Traceback (most recent call last)",
      "\u001b[36mCell\u001b[39m\u001b[36m \u001b[39m\u001b[32mIn[1]\u001b[39m\u001b[32m, line 6\u001b[39m\n\u001b[32m      4\u001b[39m \u001b[38;5;28;01mwhile\u001b[39;00m \u001b[38;5;28;01mTrue\u001b[39;00m: \u001b[38;5;66;03m# 無限ループを作成\u001b[39;00m\n\u001b[32m      5\u001b[39m     score = \u001b[38;5;28minput\u001b[39m(\u001b[33m\"\u001b[39m\u001b[33m点数を入力してください：\u001b[39m\u001b[33m\"\u001b[39m) \u001b[38;5;66;03m#「点数を入力してください：」と表示して入力できるようにする\u001b[39;00m\n\u001b[32m----> \u001b[39m\u001b[32m6\u001b[39m     score = \u001b[38;5;28;43mint\u001b[39;49m\u001b[43m(\u001b[49m\u001b[43mscore\u001b[49m\u001b[43m)\u001b[49m \u001b[38;5;66;03m#テストの点数を整数にする\u001b[39;00m\n\u001b[32m      8\u001b[39m     \u001b[38;5;28;01mif\u001b[39;00m score == -\u001b[32m1\u001b[39m: \u001b[38;5;66;03m#-1が入力されたら\u001b[39;00m\n\u001b[32m      9\u001b[39m         \u001b[38;5;28;01mbreak\u001b[39;00m  \u001b[38;5;66;03m# ループを抜ける\u001b[39;00m\n",
      "\u001b[31mValueError\u001b[39m: invalid literal for int() with base 10: ''"
     ]
    }
   ],
   "source": [
    "count = 0 #人数を数える変数\n",
    "total = 0 #合計点を数える変数\n",
    "\n",
    "while True: #無限ループを作成\n",
    "    score = input(\"点数を入力してください：\") #「点数を入力してください：」と表示して入力できるようにする\n",
    "    score = int(score) #テストの点数を整数にする\n",
    "\n",
    "    if score == -1: #-1が入力されたら\n",
    "        break  #ループを抜ける\n",
    "\n",
    "    count += 1  #-1が入力された分の人数を増やさないようにする\n",
    "    total += score #scoreの数をtotalに足す\n",
    "\n",
    "if count > 0:\n",
    "  average = total / count  #平均点を「点数の合計値 / 人数」で求める\n",
    "  average = round(average, 1)  #小数第2位で四捨五入して、小数第1位までを表示するように丸める\n",
    "  print(count, \"人のテストの平均点は\", average, \"点です\") #結果を表示する\n",
    "\n",
    "else:print(\"処理終了\") #if文しか思いつかないので無理やり入れたけど、他の書き方がわからない。\n",
    "\n",
    "# 無限ループを作成します　→○\n",
    "# そのなかで「点数を入力してください：」と表示して、テストの点数（整数値）を入力します。　→○\n",
    "# なお、入力した点数はあとで使用しますので、変数に格納してください。　→○\n",
    "# さらに、入力した点数の件数 人数 をカウンタ変数を用意して数えてください　→○\n",
    "# 平均点は「点数の合計値 / 人数」で求めます。点数の合計値 は、繰り返しのたびに入力した点数を合計値用の変数に加算して求めてください　→○\n",
    "# -1 と入力されたら、そこで繰り返し処理を終了します　→○\n",
    "# 最後に「○○人のテストの平均点は△△点です」と表示してください。平均点は小数第2位を四捨五入し、出力の際に小数第1位までを表示するようにします　→○\n"
   ]
  }
 ],
 "metadata": {
  "kernelspec": {
   "display_name": ".venv (3.12.10)",
   "language": "python",
   "name": "python3"
  },
  "language_info": {
   "codemirror_mode": {
    "name": "ipython",
    "version": 3
   },
   "file_extension": ".py",
   "mimetype": "text/x-python",
   "name": "python",
   "nbconvert_exporter": "python",
   "pygments_lexer": "ipython3",
   "version": "3.12.10"
  }
 },
 "nbformat": 4,
 "nbformat_minor": 5
}
