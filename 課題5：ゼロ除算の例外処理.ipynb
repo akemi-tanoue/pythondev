{
 "cells": [
  {
   "cell_type": "code",
   "execution_count": null,
   "id": "160839bd",
   "metadata": {},
   "outputs": [],
   "source": [
    "try:#try-except文にする\n",
    "  a = int(input(\"割られる数を入力してください：\"))\n",
    "  b = int(input(\"割る数を入力してください：\"))\n",
    "\n",
    "  c = a / b #計算させる\n",
    "  print(f\"{a} ÷ {b} = {c}\")\n",
    "\n",
    "except ValueError:\n",
    "  print(\"エラー: 数値を入力してください\")\n",
    "except ZeroDivisionError: #割る数bにゼロが入力された場合にエラーを返す\n",
    "  print(\"エラー: 0で割ることはできません\")\n",
    "except:\n",
    "  print(\"エラー: 何らかのエラーが発生しました\")\n",
    "\n",
    "print(\"処理を終了します\")\n",
    "\n",
    "#課題\n",
    "# ゼロで割り算した場合に出る例外に対する例外処理を実装してください\n",
    "# キーボードから数値ではない文字列が入力された場合に出る例外に対しても、例外処理を実装してください\n",
    "# 入力内容に問題がなかった場合に、正しく割り算される処理は壊さないようにしてください。\n",
    "# （プログラム修正によって、できていたことができなくなることを デグレード と言います。デグレードのないようにしてください）"
   ]
  }
 ],
 "metadata": {
  "kernelspec": {
   "display_name": ".venv (3.12.10)",
   "language": "python",
   "name": "python3"
  },
  "language_info": {
   "name": "python",
   "version": "3.12.10"
  }
 },
 "nbformat": 4,
 "nbformat_minor": 5
}
